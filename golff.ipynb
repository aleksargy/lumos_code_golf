{
 "cells": [
  {
   "cell_type": "markdown",
   "id": "bd4ccef7",
   "metadata": {},
   "source": [
    "# 🏌️‍♂️ Welcome to Lumos Python Code Golf: 9-Hole Challenge"
   ]
  },
  {
   "cell_type": "markdown",
   "id": "e79a7d0a",
   "metadata": {},
   "source": [
    "## 📏 How to Play\n",
    "\n",
    "### Welcome to **Lumos Code Golf** — shortest code wins!\n",
    "\n",
    "Each hole includes:\n",
    "- A short problem statement  \n",
    "- Example input/output  \n",
    "- A code cell for you to implement your function (e.g. `hole_1()`, `hole_2()`, etc.)\n",
    "- A test cell to validate your solution  \n",
    "- A \"count your characters\" cell to score your code\n",
    "- A submit cell to send your result to the leaderboard\n",
    "\n",
    "\n",
    "### ⚠️ Please Read Before You Start\n",
    "\n",
    "- **Only edit the `hole_X()` function cells**.  \n",
    "  Don’t fuck around with other cells — the notebook isn’t very robust and may break.\n",
    "\n",
    "\n",
    "- If your function passes the test, go ahead and use the **Submit** cell to record your score.  \n",
    "  Submissions are logged live to the leaderboard.\n",
    "\n",
    "- If something crashes, no worries — call a marshal (a.k.a. your friendly, neighbourhood Alexandros).\n",
    "\n",
    "- Cheating is encouraged, but if you're called you will have to wear the **Hat of Shame**™\n",
    "\n",
    "\n",
    "### 🧮 Scoring\n",
    "\n",
    "- Your score for each hole is based on **character count** of your implementation.  \n",
    "- Shorter is better.  \n",
    "- The leaderboard reflects your **best** submission per hole.\n",
    "**HOWEVER**\n",
    "- This system has **not been stress-tested**.  \n",
    "  It's a golf cart held together with Python, Google Sheets, and vibes(coding). \n",
    "\n",
    "## Happy golfing! 🏌️‍♀️⛳"
   ]
  },
  {
   "cell_type": "markdown",
   "id": "063688bb",
   "metadata": {},
   "source": [
    "Enter your name below but bitte don't change it midway!"
   ]
  },
  {
   "cell_type": "code",
   "execution_count": null,
   "id": "1ba9eb21",
   "metadata": {},
   "outputs": [],
   "source": [
    "your_name = \"Alex\""
   ]
  },
  {
   "cell_type": "markdown",
   "id": "15e914e3",
   "metadata": {},
   "source": [
    "# ⛳️ Hole 1: 🧠 Palindrome Prime\n",
    "Write a function `f(n)` that returns the nth **palindromic prime**.\n",
    "\n",
    "A **palindromic prime** is a number that:\n",
    "- Is a **prime**\n",
    "- Is a **palindrome** (reads the same forward and backward)\n",
    "\n",
    "### Examples\n",
    "\n",
    "```python\n",
    "f(1) ➞ 2  \n",
    "f(5) ➞ 11  \n",
    "f(6) ➞ 101"
   ]
  },
  {
   "cell_type": "code",
   "execution_count": null,
   "id": "d43b7a0e",
   "metadata": {},
   "outputs": [],
   "source": [
    "def hole_1(n):\n",
    "    pass"
   ]
  },
  {
   "cell_type": "code",
   "execution_count": null,
   "id": "94fb865e",
   "metadata": {},
   "outputs": [],
   "source": [
    "# Test your implementation\n",
    "print(hole_1(1))  # Expected: 2\n",
    "print(hole_1(2))  # Expected: 3\n",
    "print(hole_1(3))  # Expected: 5\n",
    "print(hole_1(4))  # Expected: 7\n",
    "print(hole_1(5))  # Expected: 11\n",
    "print(hole_1(6))  # Expected: 101\n",
    "print(hole_1(7))  # Expected: 131"
   ]
  },
  {
   "cell_type": "code",
   "execution_count": null,
   "id": "59999c19",
   "metadata": {},
   "outputs": [],
   "source": [
    "import inspect\n",
    "\n",
    "# This counts the characters inside the function definition\n",
    "hole1_body = ''.join(l.strip() for l in inspect.getsource(hole_1).splitlines()[1:])\n",
    "print(\"Character count:\", len(hole1_body))"
   ]
  },
  {
   "cell_type": "code",
   "execution_count": null,
   "id": "f2c8dcc1",
   "metadata": {},
   "outputs": [],
   "source": [
    "import requests\n",
    "import inspect\n",
    "\n",
    "GOOGLE_FORM_URL = \"https://script.google.com/macros/s/AKfycbzv2g5JNmgYPUQWcuxpelfGWBPqTPelOGiZdUdfC4SZbF3_1Ko3FV3UFr4Dv2XZ9aNb/exec\"\n",
    "\n",
    "def submit_score(hole_number, code_length):\n",
    "    payload = {\n",
    "        \"participant\": your_name,\n",
    "        \"hole\": hole_number,\n",
    "        \"length\": code_length\n",
    "    }\n",
    "    res = requests.post(GOOGLE_FORM_URL, json=payload)\n",
    "    if res.status_code == 200:\n",
    "        print(f\"✅ Submission for Hole {hole_number} submitted successfully!\")\n",
    "    else:\n",
    "        print(\"❌ Failed to submit:\", res.text)"
   ]
  },
  {
   "cell_type": "code",
   "execution_count": null,
   "id": "e7ceff19",
   "metadata": {},
   "outputs": [],
   "source": [
    "# Once you're happy with your implementation, submit your score\n",
    "submit_score(1, len(hole1_body))"
   ]
  },
  {
   "cell_type": "markdown",
   "id": "c27fc922",
   "metadata": {},
   "source": [
    "## ⛳️ Hole 2: 📉 Reverse Linear Regression\n",
    "\n",
    "Given a list of 2D points on a line of the form `y = ax + b`, write a function `f(lst)` that returns a tuple `(a, b)` representing the **slope** and **intercept** of the line using **linear regression**.\n",
    "\n",
    "📦 Use the fewest characters possible — shortest valid solution wins.\n",
    "\n",
    "You may use:\n",
    "- `numpy` (already imported as `np`)\n",
    "- `scipy` or `statistics` are **not** allowed.\n",
    "\n",
    "### Examples\n",
    "\n",
    "```python\n",
    "f([(0, 1), (1, 3), (2, 5)]) ➞ (2.0, 1.0)\n",
    "f([(0, 0), (1, 1)]) ➞ (1.0, 0.0)"
   ]
  },
  {
   "cell_type": "code",
   "execution_count": null,
   "id": "fe461389",
   "metadata": {},
   "outputs": [],
   "source": [
    "import numpy as np\n",
    "\n",
    "def hole_2(lst):\n",
    "    pass\n"
   ]
  },
  {
   "cell_type": "code",
   "execution_count": null,
   "id": "72e4e472",
   "metadata": {},
   "outputs": [],
   "source": [
    "print(hole_2([(0, 1), (1, 3), (2, 5)]))  # ➞ (2.0, 1.0)\n",
    "print(hole_2([(0, 0), (1, 1)]))          # ➞ (1.0, 0.0)\n",
    "print(hole_2([(1, 4), (2, 6), (3, 8)]))  # ➞ (2.0, 2.0)"
   ]
  },
  {
   "cell_type": "code",
   "execution_count": null,
   "id": "bf2a4bd7",
   "metadata": {},
   "outputs": [],
   "source": [
    "hole2_body = ''.join(l.strip() for l in inspect.getsource(hole_2).splitlines()[1:])\n",
    "print(\"Character count:\", len(hole2_body))"
   ]
  },
  {
   "cell_type": "code",
   "execution_count": null,
   "id": "2f19a355",
   "metadata": {},
   "outputs": [],
   "source": [
    "submit_score(2, len(hole2_body))"
   ]
  },
  {
   "cell_type": "markdown",
   "id": "a0ca9764",
   "metadata": {},
   "source": [
    "## ⛳️ Hole 3: 🎨 Image in a List\n",
    "\n",
    "Create a 5×5 grid using a 2D list of 0s and 1s that draws an **\"X\" pattern**.\n",
    "\n",
    "Your function `hole_3()` should return:\n",
    "\n",
    "```python\n",
    "[[1,0,0,0,1],\n",
    " [0,1,0,1,0],\n",
    " [0,0,1,0,0],\n",
    " [0,1,0,1,0],\n",
    " [1,0,0,0,1]]\n"
   ]
  },
  {
   "cell_type": "code",
   "execution_count": null,
   "id": "c8d0b193",
   "metadata": {},
   "outputs": [],
   "source": [
    "def hole_3():\n",
    "    pass"
   ]
  },
  {
   "cell_type": "code",
   "execution_count": 73,
   "id": "60adece5",
   "metadata": {},
   "outputs": [
    {
     "name": "stdout",
     "output_type": "stream",
     "text": [
      "[[1, 0, 0, 0, 0],\n",
      " [0, 1, 0, 0, 0],\n",
      " [0, 0, 1, 0, 0],\n",
      " [0, 0, 0, 1, 0],\n",
      " [0, 0, 0, 0, 1]]\n"
     ]
    }
   ],
   "source": [
    "from pprint import pprint\n",
    "pprint(hole_3())\n",
    "\n",
    "expected = [\n",
    "    [1,0,0,0,1],\n",
    "    [0,1,0,1,0],\n",
    "    [0,0,1,0,0],\n",
    "    [0,1,0,1,0],\n",
    "    [1,0,0,0,1]\n",
    "]"
   ]
  },
  {
   "cell_type": "code",
   "execution_count": null,
   "id": "ce43e146",
   "metadata": {},
   "outputs": [],
   "source": [
    "hole3_body = ''.join(l.strip() for l in inspect.getsource(hole_3).splitlines()[1:])\n",
    "print(\"Character count:\", len(hole3_body))"
   ]
  },
  {
   "cell_type": "code",
   "execution_count": null,
   "id": "bd8e4440",
   "metadata": {},
   "outputs": [],
   "source": [
    "submit_score(3, len(hole3_body))"
   ]
  },
  {
   "cell_type": "markdown",
   "id": "64f87e67",
   "metadata": {},
   "source": [
    "## ⛳️ Hole 4: 🔢 One-Liner FizzBuzz\n",
    "\n",
    "Print numbers from **1 to 15**, but:\n",
    "\n",
    "- Print `\"Fizz\"` instead of numbers divisible by **3**\n",
    "- Print `\"Buzz\"` instead of numbers divisible by **5**\n",
    "- Print `\"FizzBuzz\"` for numbers divisible by both **3 and 5**\n",
    "- Otherwise, print the number\n",
    "\n",
    "Your function `hole_4()` should **print the entire line in one shot**, space-separated:\n",
    "\n",
    "### Expected Output:\n",
    "```python\n",
    "1 2 Fizz 4 Buzz Fizz 7 8 Fizz Buzz 11 Fizz 13 14 FizzBuzz\n"
   ]
  },
  {
   "cell_type": "code",
   "execution_count": 74,
   "id": "6afe41a5",
   "metadata": {},
   "outputs": [],
   "source": [
    "def hole_4():\n",
    "    print(*[\"Fizz\"*(i%3<1)+\"Buzz\"*(i%5<1)or i for i in range(1,16)])"
   ]
  },
  {
   "cell_type": "code",
   "execution_count": 75,
   "id": "7ba048f2",
   "metadata": {},
   "outputs": [
    {
     "name": "stdout",
     "output_type": "stream",
     "text": [
      "1 2 Fizz 4 Buzz Fizz 7 8 Fizz Buzz 11 Fizz 13 14 FizzBuzz\n",
      "1 2 Fizz 4 Buzz Fizz 7 8 Fizz Buzz 11 Fizz 13 14 FizzBuzz\n"
     ]
    }
   ],
   "source": [
    "expected = \"1 2 Fizz 4 Buzz Fizz 7 8 Fizz Buzz 11 Fizz 13 14 FizzBuzz\"\n",
    "print(expected)\n",
    "\n",
    "hole_4()"
   ]
  },
  {
   "cell_type": "code",
   "execution_count": null,
   "id": "092ae5a8",
   "metadata": {},
   "outputs": [],
   "source": [
    "hole4_body = ''.join(l.strip() for l in inspect.getsource(hole_4).splitlines()[1:])\n",
    "print(\"Character count:\", len(hole4_body))"
   ]
  },
  {
   "cell_type": "code",
   "execution_count": null,
   "id": "8dfd0f58",
   "metadata": {},
   "outputs": [],
   "source": [
    "submit_score(4, len(hole4_body))"
   ]
  },
  {
   "cell_type": "markdown",
   "id": "abda6a1b",
   "metadata": {},
   "source": [
    "## ⛳️ Hole 5: 🧬 DNA Translator\n",
    "\n",
    "Write a function `hole_5(dna)` that takes a DNA string and translates every **three-letter codon** into an amino acid **single-letter abbreviation**.\n",
    "\n",
    "Use the simplified codon table below:\n",
    "\n",
    "| Codon | Amino Acid |\n",
    "|-------|------------|\n",
    "| ATG   | M          |\n",
    "| TTT   | F          |\n",
    "| GGG   | G          |\n",
    "| CCC   | P          |\n",
    "| AAA   | K          |\n",
    "| TGC   | C          |\n",
    "| TAG   | *          |\n",
    "\n",
    "Return a **string of translated letters**, one per codon.\n",
    "\n",
    "### 🧪 Examples\n",
    "\n",
    "```python\n",
    "hole_5(\"ATGTTT\")     ➞ \"MF\"\n",
    "hole_5(\"GGGAAA\")     ➞ \"GK\"\n",
    "hole_5(\"TGCATGTAG\")  ➞ \"CM*\"\n"
   ]
  },
  {
   "cell_type": "code",
   "execution_count": null,
   "id": "c7ffbe3a",
   "metadata": {},
   "outputs": [],
   "source": [
    "def hole_5(d):\n",
    "    pass"
   ]
  },
  {
   "cell_type": "code",
   "execution_count": null,
   "id": "b3f5b727",
   "metadata": {},
   "outputs": [],
   "source": [
    "print(hole_5(\"ATGTTT\"))     # \"MF\"\n",
    "print(hole_5(\"GGGAAA\"))     # \"GK\"\n",
    "print(hole_5(\"TGCATGTAG\"))  # \"CM*\"\n",
    "print(hole_5(\"TTTGGGCCC\"))  # \"FGP\""
   ]
  },
  {
   "cell_type": "code",
   "execution_count": null,
   "id": "8946e0da",
   "metadata": {},
   "outputs": [],
   "source": [
    "hole5_body = ''.join(l.strip() for l in inspect.getsource(hole_5).splitlines()[1:])\n",
    "print(\"Character count:\", len(hole5_body))"
   ]
  },
  {
   "cell_type": "code",
   "execution_count": null,
   "id": "5a158668",
   "metadata": {},
   "outputs": [],
   "source": [
    "submit_score(5, len(hole5_body))"
   ]
  },
  {
   "cell_type": "markdown",
   "id": "f26b107e",
   "metadata": {},
   "source": [
    "## ⛳️ Hole 6: BONUS ROUND SO LOOK AT ME"
   ]
  },
  {
   "cell_type": "markdown",
   "id": "0a4d37eb",
   "metadata": {},
   "source": [
    "## ⛳️ Hole 7: 🌐 Internet Check\n",
    "\n",
    "Write a function `hole_7()` that returns `True` if the computer has an **active internet connection**.\n",
    "\n",
    "You may use:\n",
    "- Standard library modules only (`socket`, `urllib`, etc.)\n",
    "- No external libraries like `requests`\n",
    "- As few characters as possible\n",
    "\n",
    "### ✅ Expected Output\n",
    "\n",
    "```python\n",
    "hole_7()  ➞ True   # if online\n",
    "hole_7()  ➞ False   # if offline\n",
    "\n"
   ]
  },
  {
   "cell_type": "code",
   "execution_count": null,
   "id": "5f494516",
   "metadata": {},
   "outputs": [],
   "source": [
    "def hole_7():\n",
    " return\n"
   ]
  },
  {
   "cell_type": "code",
   "execution_count": null,
   "id": "85791166",
   "metadata": {},
   "outputs": [],
   "source": [
    "try:\n",
    "    print(\"Online ✅\" if hole_7() else \"Offline ❌\")\n",
    "except Exception as e:\n",
    "    print(\"Error ❌\", e)"
   ]
  },
  {
   "cell_type": "code",
   "execution_count": null,
   "id": "875082cb",
   "metadata": {},
   "outputs": [],
   "source": [
    "hole7_body = ''.join(l.strip() for l in inspect.getsource(hole_7).splitlines()[1:])\n",
    "print(\"Character count:\", len(hole7_body))"
   ]
  },
  {
   "cell_type": "code",
   "execution_count": null,
   "id": "300068df",
   "metadata": {},
   "outputs": [],
   "source": [
    "submit_score(7, len(hole7_body))"
   ]
  },
  {
   "cell_type": "markdown",
   "id": "527cdf2c",
   "metadata": {},
   "source": [
    "## ⛳️ Hole 8: 📅 What’s the Date Again?\n",
    "\n",
    "Write a function `hole_8()` that returns **today’s date** as a string in the format: \"YYYY-MM-DD\"\n",
    "\n",
    "\n",
    "- ✅ You may use any module from the standard library (e.g. `datetime`)  \n",
    "- ❌ No hardcoding the date\n",
    "\n",
    "\n",
    "### Examples:\n",
    "```python\n",
    "hole_8() ➞ \"2025-05-30\"   # if today is May 30, 2025\n"
   ]
  },
  {
   "cell_type": "code",
   "execution_count": null,
   "id": "bf1a2a7d",
   "metadata": {},
   "outputs": [],
   "source": [
    "def hole_8():\n",
    "    pass"
   ]
  },
  {
   "cell_type": "code",
   "execution_count": null,
   "id": "4ce51aaa",
   "metadata": {},
   "outputs": [],
   "source": [
    "hole_8()"
   ]
  },
  {
   "cell_type": "code",
   "execution_count": null,
   "id": "d312a503",
   "metadata": {},
   "outputs": [],
   "source": [
    "hole8_body = ''.join(l.strip() for l in inspect.getsource(hole_8).splitlines()[1:])\n",
    "print(\"Character count:\", len(hole8_body))"
   ]
  },
  {
   "cell_type": "code",
   "execution_count": null,
   "id": "ac8dee5f",
   "metadata": {},
   "outputs": [],
   "source": [
    "submit_score(8, len(hole8_body))"
   ]
  },
  {
   "cell_type": "markdown",
   "id": "27d47c32",
   "metadata": {},
   "source": [
    "## ⛳️ Hole 9: 🐍 Snakes Say Sentiment\n",
    "\n",
    "Write a function `hole_9()` that returns a **tiny classifier** to detect whether a given sentence is **positive** or **negative** — using **as little code as possible**.\n",
    "\n",
    "But instead of returning `\"positive\"` or `\"negative\"`, your model must return:\n",
    "\n",
    "- `\"🐍\"` for positive  \n",
    "- `\"💀\"` for negative\n",
    "\n",
    "\n",
    "- Train your model inside `hole_9()` — use keyword rules or a tiny dataset.\n",
    "- Your function must return another function that accepts a string and returns either `\"🐍\"` or `\"💀\"`.\n",
    "- Be clever, compress your logic — shortest valid code wins.\n",
    "\n",
    "\n",
    "### 🧪 Example Usage\n",
    "\n",
    "```python\n",
    "predict = hole_9()\n",
    "\n",
    "predict(\"I love Python so much\")         ➞ \"🐍\"\n",
    "predict(\"This is the worst thing ever\")  ➞ \"💀\"\n",
    "predict(\"Absolutely delightful\")         ➞ \"🐍\"\n",
    "predict(\"Why did I even run this?\")      ➞ \"💀\"\n",
    "\n"
   ]
  },
  {
   "cell_type": "code",
   "execution_count": 85,
   "id": "bb07309c",
   "metadata": {},
   "outputs": [
    {
     "data": {
      "text/plain": [
       "'🐍'"
      ]
     },
     "execution_count": 85,
     "metadata": {},
     "output_type": "execute_result"
    }
   ],
   "source": [
    "predict = hole_9()\n",
    "predict(\"good\")"
   ]
  },
  {
   "cell_type": "code",
   "execution_count": null,
   "id": "d2af7d80",
   "metadata": {},
   "outputs": [],
   "source": [
    "hole9_body = ''.join(l.strip() for l in inspect.getsource(hole_9).splitlines()[1:])\n",
    "print(\"Character count:\", len(hole9_body))"
   ]
  },
  {
   "cell_type": "code",
   "execution_count": null,
   "id": "80962703",
   "metadata": {},
   "outputs": [],
   "source": [
    "submit_score(9, len(hole9_body))"
   ]
  }
 ],
 "metadata": {
  "kernelspec": {
   "display_name": "Python 3",
   "language": "python",
   "name": "python3"
  },
  "language_info": {
   "codemirror_mode": {
    "name": "ipython",
    "version": 3
   },
   "file_extension": ".py",
   "mimetype": "text/x-python",
   "name": "python",
   "nbconvert_exporter": "python",
   "pygments_lexer": "ipython3",
   "version": "3.13.2"
  }
 },
 "nbformat": 4,
 "nbformat_minor": 5
}
