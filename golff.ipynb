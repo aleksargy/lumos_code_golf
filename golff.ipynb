{
 "cells": [
  {
   "cell_type": "markdown",
   "id": "83d3d11a",
   "metadata": {},
   "source": [
    "Here's a Python Code Golf Challenge: 9-Hole Edition designed for student data science enthusiasts and coding nerds alike. Each \"hole\" is a puzzle that must be solved using the shortest code possible (in characters), focusing on clever tricks, standard lib hacks, obscure Python behavior, or data science flavor."
   ]
  },
  {
   "cell_type": "markdown",
   "id": "bd4ccef7",
   "metadata": {},
   "source": [
    "🏌️‍♂️ Python Code Golf: 9-Hole Challenge\n",
    "Rules:\n",
    "\n",
    "Shortest solution (in characters) wins for each hole.\n",
    "\n",
    "No external libraries unless stated.\n",
    "\n",
    "Python 3.x.\n",
    "\n",
    "Solutions must be functions or one-liners unless stated otherwise."
   ]
  },
  {
   "cell_type": "markdown",
   "id": "e79a7d0a",
   "metadata": {},
   "source": [
    "## 📏 How to Play\n",
    "\n",
    "Each hole includes:\n",
    "- A short problem statement\n",
    "- Example input/output\n",
    "- A cell for you to implement your function\n",
    "- A \"test\" cell to validate your code"
   ]
  },
  {
   "cell_type": "markdown",
   "id": "27bd46eb",
   "metadata": {},
   "source": [
    "## 🧠 Scoring\n",
    "\n",
    "Once you're done, count the characters in your solution:\n",
    "```python\n",
    "len('''.join(inspect.getsource(f).splitlines()[1:]))"
   ]
  },
  {
   "cell_type": "markdown",
   "id": "15e914e3",
   "metadata": {},
   "source": [
    "## ⛳️ Hole 1: 🧠 Palindrome Prime\n",
    "Write a function `f(n)` that returns the nth **palindromic prime**.\n",
    "\n",
    "A **palindromic prime** is a number that:\n",
    "- Is a **prime**\n",
    "- Is a **palindrome** (reads the same forward and backward)\n",
    "\n",
    "### Examples\n",
    "\n",
    "```python\n",
    "f(1) ➞ 2  \n",
    "f(5) ➞ 11  \n",
    "f(6) ➞ 101"
   ]
  },
  {
   "cell_type": "code",
   "execution_count": 2,
   "id": "d43b7a0e",
   "metadata": {},
   "outputs": [],
   "source": [
    "# Hole 1: Write the shortest valid implementation for palindromic prime generator\n",
    "\n",
    "def hole_1(n):\n",
    " i=1\n",
    " while n:\n",
    "  i+=1;s=str(i)\n",
    "  if s==s[::-1]and all(i%j for j in range(2,i)):n-=1\n",
    " return i\n"
   ]
  },
  {
   "cell_type": "code",
   "execution_count": 3,
   "id": "94fb865e",
   "metadata": {},
   "outputs": [
    {
     "name": "stdout",
     "output_type": "stream",
     "text": [
      "2\n",
      "3\n",
      "5\n",
      "7\n",
      "11\n",
      "101\n",
      "131\n"
     ]
    }
   ],
   "source": [
    "# Test your implementation\n",
    "print(hole_1(1))  # Expected: 2\n",
    "print(hole_1(2))  # Expected: 3\n",
    "print(hole_1(3))  # Expected: 5\n",
    "print(hole_1(4))  # Expected: 7\n",
    "print(hole_1(5))  # Expected: 11\n",
    "print(hole_1(6))  # Expected: 101\n",
    "print(hole_1(7))  # Expected: 131"
   ]
  },
  {
   "cell_type": "code",
   "execution_count": 4,
   "id": "59999c19",
   "metadata": {},
   "outputs": [
    {
     "name": "stdout",
     "output_type": "stream",
     "text": [
      "Character count: 82\n"
     ]
    }
   ],
   "source": [
    "import inspect\n",
    "\n",
    "# This counts the characters inside the function definition\n",
    "body = ''.join(l.strip() for l in inspect.getsource(hole_1).splitlines()[1:])\n",
    "print(\"Character count:\", len(body))  # Now returns 4"
   ]
  },
  {
   "cell_type": "markdown",
   "id": "c27fc922",
   "metadata": {},
   "source": [
    "---\n",
    "## ⛳️ Hole 2: 📉 Reverse Linear Regression\n",
    "\n",
    "Given a list of 2D points on a line of the form `y = ax + b`, write a function `f(lst)` that returns a tuple `(a, b)` representing the **slope** and **intercept** of the line using **linear regression**.\n",
    "\n",
    "📦 Use the fewest characters possible — shortest valid solution wins.\n",
    "\n",
    "You may use:\n",
    "- `numpy` (already imported as `np`)\n",
    "- `scipy` or `statistics` are **not** allowed.\n",
    "\n",
    "### Examples\n",
    "\n",
    "```python\n",
    "f([(0, 1), (1, 3), (2, 5)]) ➞ (2.0, 1.0)\n",
    "f([(0, 0), (1, 1)]) ➞ (1.0, 0.0)"
   ]
  },
  {
   "cell_type": "code",
   "execution_count": 5,
   "id": "fe461389",
   "metadata": {},
   "outputs": [],
   "source": [
    "import numpy as np\n",
    "\n",
    "def hole_2(lst):\n",
    "    a,b=np.polyfit(*zip(*lst),1);return round(a,1),round(b,1)\n"
   ]
  },
  {
   "cell_type": "code",
   "execution_count": 6,
   "id": "72e4e472",
   "metadata": {},
   "outputs": [
    {
     "name": "stdout",
     "output_type": "stream",
     "text": [
      "(np.float64(2.0), np.float64(1.0))\n",
      "(np.float64(1.0), np.float64(0.0))\n",
      "(np.float64(2.0), np.float64(2.0))\n"
     ]
    }
   ],
   "source": [
    "print(hole_2([(0, 1), (1, 3), (2, 5)]))  # ➞ (2.0, 1.0)\n",
    "print(hole_2([(0, 0), (1, 1)]))          # ➞ (1.0, 0.0)\n",
    "print(hole_2([(1, 4), (2, 6), (3, 8)]))  # ➞ (2.0, 2.0)"
   ]
  },
  {
   "cell_type": "code",
   "execution_count": 7,
   "id": "bf2a4bd7",
   "metadata": {},
   "outputs": [
    {
     "name": "stdout",
     "output_type": "stream",
     "text": [
      "Character count: 57\n"
     ]
    }
   ],
   "source": [
    "body = ''.join(l.strip() for l in inspect.getsource(hole_2).splitlines()[1:])\n",
    "print(\"Character count:\", len(body))"
   ]
  },
  {
   "cell_type": "markdown",
   "id": "a0ca9764",
   "metadata": {},
   "source": [
    "## ⛳️ Hole 3: 🎨 Image in a List\n",
    "\n",
    "Create a 5×5 grid using a 2D list of 0s and 1s that draws an **\"X\" pattern**.\n",
    "\n",
    "Your function `hole_3()` should return:\n",
    "\n",
    "```python\n",
    "[[1,0,0,0,1],\n",
    " [0,1,0,1,0],\n",
    " [0,0,1,0,0],\n",
    " [0,1,0,1,0],\n",
    " [1,0,0,0,1]]\n"
   ]
  },
  {
   "cell_type": "code",
   "execution_count": 8,
   "id": "c8d0b193",
   "metadata": {},
   "outputs": [],
   "source": [
    "def hole_3():\n",
    "    return [[+(i==j or i==~j)for j in range(5)]for i in range(5)]\n"
   ]
  },
  {
   "cell_type": "code",
   "execution_count": 9,
   "id": "60adece5",
   "metadata": {},
   "outputs": [
    {
     "name": "stdout",
     "output_type": "stream",
     "text": [
      "[[1, 0, 0, 0, 0],\n",
      " [0, 1, 0, 0, 0],\n",
      " [0, 0, 1, 0, 0],\n",
      " [0, 0, 0, 1, 0],\n",
      " [0, 0, 0, 0, 1]]\n"
     ]
    }
   ],
   "source": [
    "from pprint import pprint\n",
    "pprint(hole_3())\n",
    "\n",
    "expected = [\n",
    "    [1,0,0,0,1],\n",
    "    [0,1,0,1,0],\n",
    "    [0,0,1,0,0],\n",
    "    [0,1,0,1,0],\n",
    "    [1,0,0,0,1]\n",
    "]"
   ]
  },
  {
   "cell_type": "code",
   "execution_count": 10,
   "id": "ce43e146",
   "metadata": {},
   "outputs": [
    {
     "name": "stdout",
     "output_type": "stream",
     "text": [
      "Character count: 61\n"
     ]
    }
   ],
   "source": [
    "body = ''.join(l.strip() for l in inspect.getsource(hole_3).splitlines()[1:])\n",
    "print(\"Character count:\", len(body))"
   ]
  },
  {
   "cell_type": "markdown",
   "id": "64f87e67",
   "metadata": {},
   "source": [
    "## ⛳️ Hole 4: 🔢 One-Liner FizzBuzz\n",
    "\n",
    "Print numbers from **1 to 15**, but:\n",
    "\n",
    "- Print `\"Fizz\"` instead of numbers divisible by **3**\n",
    "- Print `\"Buzz\"` instead of numbers divisible by **5**\n",
    "- Print `\"FizzBuzz\"` for numbers divisible by both **3 and 5**\n",
    "- Otherwise, print the number\n",
    "\n",
    "Your function `hole_4()` should **print the entire line in one shot**, space-separated:\n",
    "\n",
    "### Expected Output:\n",
    "```python\n",
    "1 2 Fizz 4 Buzz Fizz 7 8 Fizz Buzz 11 Fizz 13 14 FizzBuzz\n"
   ]
  },
  {
   "cell_type": "code",
   "execution_count": 11,
   "id": "6afe41a5",
   "metadata": {},
   "outputs": [],
   "source": [
    "def hole_4():\n",
    "    print(*[\"Fizz\"*(i%3<1)+\"Buzz\"*(i%5<1)or i for i in range(1,16)])"
   ]
  },
  {
   "cell_type": "code",
   "execution_count": 15,
   "id": "7ba048f2",
   "metadata": {},
   "outputs": [
    {
     "name": "stdout",
     "output_type": "stream",
     "text": [
      "1 2 Fizz 4 Buzz Fizz 7 8 Fizz Buzz 11 Fizz 13 14 FizzBuzz\n",
      "1 2 Fizz 4 Buzz Fizz 7 8 Fizz Buzz 11 Fizz 13 14 FizzBuzz\n"
     ]
    }
   ],
   "source": [
    "expected = \"1 2 Fizz 4 Buzz Fizz 7 8 Fizz Buzz 11 Fizz 13 14 FizzBuzz\"\n",
    "print(expected)\n",
    "\n",
    "hole_4()\n"
   ]
  },
  {
   "cell_type": "code",
   "execution_count": 16,
   "id": "092ae5a8",
   "metadata": {},
   "outputs": [
    {
     "name": "stdout",
     "output_type": "stream",
     "text": [
      "Character count: 64\n"
     ]
    }
   ],
   "source": [
    "body = ''.join(l.strip() for l in inspect.getsource(hole_4).splitlines()[1:])\n",
    "print(\"Character count:\", len(body))"
   ]
  },
  {
   "cell_type": "markdown",
   "id": "abda6a1b",
   "metadata": {},
   "source": [
    "## ⛳️ Hole 5: 🧬 DNA Translator\n",
    "\n",
    "Write a function `hole_5(dna)` that takes a DNA string and translates every **three-letter codon** into an amino acid **single-letter abbreviation**.\n",
    "\n",
    "Use the simplified codon table below:\n",
    "\n",
    "| Codon | Amino Acid |\n",
    "|-------|------------|\n",
    "| ATG   | M          |\n",
    "| TTT   | F          |\n",
    "| GGG   | G          |\n",
    "| CCC   | P          |\n",
    "| AAA   | K          |\n",
    "| TGC   | C          |\n",
    "| TAG   | *          |\n",
    "\n",
    "Return a **string of translated letters**, one per codon.\n",
    "\n",
    "---\n",
    "\n",
    "### 🧪 Examples\n",
    "\n",
    "```python\n",
    "hole_5(\"ATGTTT\")     ➞ \"MF\"\n",
    "hole_5(\"GGGAAA\")     ➞ \"GK\"\n",
    "hole_5(\"TGCATGTAG\")  ➞ \"CM*\"\n"
   ]
  },
  {
   "cell_type": "code",
   "execution_count": 17,
   "id": "c7ffbe3a",
   "metadata": {},
   "outputs": [],
   "source": [
    "def hole_5(d):\n",
    "    return''.join({'ATG':'M','TTT':'F','GGG':'G','CCC':'P','AAA':'K','TGC':'C','TAG':'*'}[d[i:i+3]]for i in range(0,len(d),3))\n"
   ]
  },
  {
   "cell_type": "code",
   "execution_count": 18,
   "id": "b3f5b727",
   "metadata": {},
   "outputs": [
    {
     "name": "stdout",
     "output_type": "stream",
     "text": [
      "MF\n",
      "GK\n",
      "CM*\n",
      "FGP\n"
     ]
    }
   ],
   "source": [
    "print(hole_5(\"ATGTTT\"))     # \"MF\"\n",
    "print(hole_5(\"GGGAAA\"))     # \"GK\"\n",
    "print(hole_5(\"TGCATGTAG\"))  # \"CM*\"\n",
    "print(hole_5(\"TTTGGGCCC\"))  # \"FGP\""
   ]
  },
  {
   "cell_type": "code",
   "execution_count": 19,
   "id": "8946e0da",
   "metadata": {},
   "outputs": [
    {
     "name": "stdout",
     "output_type": "stream",
     "text": [
      "Character count: 122\n"
     ]
    }
   ],
   "source": [
    "body = ''.join(l.strip() for l in inspect.getsource(hole_5).splitlines()[1:])\n",
    "print(\"Character count:\", len(body))"
   ]
  },
  {
   "cell_type": "markdown",
   "id": "0a4d37eb",
   "metadata": {},
   "source": [
    "## ⛳️ Hole 6: 🌐 Internet Check\n",
    "\n",
    "Write a function `hole_6()` that returns `True` if the computer has an **active internet connection**.\n",
    "\n",
    "You may use:\n",
    "- Standard library modules only (`socket`, `urllib`, etc.)\n",
    "- No external libraries like `requests`\n",
    "- As few characters as possible\n",
    "\n",
    "---\n",
    "\n",
    "### ✅ Expected Output\n",
    "\n",
    "```python\n",
    "hole_6()  ➞ True   # if online\n"
   ]
  },
  {
   "cell_type": "code",
   "execution_count": 23,
   "id": "5f494516",
   "metadata": {},
   "outputs": [],
   "source": [
    "def hole_6():\n",
    " import socket as s\n",
    " try:s.create_connection((\"1.1.1.1\",80),1);return 1\n",
    " except:return 0\n"
   ]
  },
  {
   "cell_type": "code",
   "execution_count": 24,
   "id": "85791166",
   "metadata": {},
   "outputs": [
    {
     "name": "stdout",
     "output_type": "stream",
     "text": [
      "Offline ❌\n"
     ]
    }
   ],
   "source": [
    "try:\n",
    "    print(\"Online ✅\" if hole_6() else \"Offline ❌\")\n",
    "except Exception as e:\n",
    "    print(\"Error ❌\", e)"
   ]
  },
  {
   "cell_type": "code",
   "execution_count": 26,
   "id": "875082cb",
   "metadata": {},
   "outputs": [
    {
     "name": "stdout",
     "output_type": "stream",
     "text": [
      "Character count: 83\n"
     ]
    }
   ],
   "source": [
    "body = ''.join(l.strip() for l in inspect.getsource(hole_6).splitlines()[1:])\n",
    "print(\"Character count:\", len(body))"
   ]
  },
  {
   "cell_type": "markdown",
   "id": "527cdf2c",
   "metadata": {},
   "source": [
    "## ⛳️ Hole 7 (New): 🧙‍♂️ Unexpected Sort — No sort, no sorted\n",
    "\n",
    "Write a function `hole_7(lst)` that returns a sorted version of a list of **unique integers**, like `[3,1,4,2]`.\n",
    "\n",
    "But here’s the twist:\n",
    "\n",
    "> ❌ You cannot use `sort()`  \n",
    "> ❌ You cannot use `sorted()`  \n",
    "> ✅ Use **any other clever trick**, including recursion, math hacks, or functional magic\n",
    "\n",
    "---\n",
    "\n",
    "### Examples:\n",
    "```python\n",
    "hole_7([3,1,4,2]) ➞ [1,2,3,4]\n",
    "hole_7([5,3,1])   ➞ [1,3,5]\n"
   ]
  },
  {
   "cell_type": "code",
   "execution_count": 36,
   "id": "bf1a2a7d",
   "metadata": {},
   "outputs": [],
   "source": [
    "def hole_7(l):\n",
    "    return[l.pop(l.index(min(l)))for _ in range(len(l))]"
   ]
  },
  {
   "cell_type": "code",
   "execution_count": 37,
   "id": "4ce51aaa",
   "metadata": {},
   "outputs": [
    {
     "name": "stdout",
     "output_type": "stream",
     "text": [
      "[1, 2, 3, 4]\n",
      "[1, 3, 5]\n",
      "[2, 7, 9]\n"
     ]
    }
   ],
   "source": [
    "print(hole_7([3,1,4,2]))  # ➞ [1,2,3,4]\n",
    "print(hole_7([5,3,1]))    # ➞ [1,3,5]\n",
    "print(hole_7([9,2,7]))    # ➞ [2,7,9]\n"
   ]
  },
  {
   "cell_type": "code",
   "execution_count": 38,
   "id": "d312a503",
   "metadata": {},
   "outputs": [
    {
     "name": "stdout",
     "output_type": "stream",
     "text": [
      "Character count: 52\n"
     ]
    }
   ],
   "source": [
    "body = ''.join(l.strip() for l in inspect.getsource(hole_7).splitlines()[1:])\n",
    "print(\"Character count:\", len(body))"
   ]
  },
  {
   "cell_type": "code",
   "execution_count": 9,
   "id": "86a606c6",
   "metadata": {},
   "outputs": [],
   "source": [
    "def hole_8():\n",
    "    from sklearn.utils import shuffle\n",
    "    import random\n",
    "\n",
    "    emotions = {\n",
    "        'joy': [\n",
    "            'Sunlight spills across my face',\n",
    "            'Laughter dances in the breeze',\n",
    "            'Joy crackles like fire in my chest',\n",
    "            'The day tastes like sweet peaches',\n",
    "            'My heart hums a golden tune',\n",
    "            'Waves shimmer like dreams',\n",
    "            'Hope rises with the sun',\n",
    "            'Smiles bloom without warning',\n",
    "            'Color bursts behind my eyes',\n",
    "            'I skip through silver puddles'\n",
    "        ],\n",
    "        'sadness': [\n",
    "            'Rain curls up on my window',\n",
    "            'My chest folds into silence',\n",
    "            'Every word is a sigh',\n",
    "            'Loneliness drips like candle wax',\n",
    "            'Memories blur behind wet glass',\n",
    "            'A shadow sits beside me',\n",
    "            'I speak only to echoes',\n",
    "            'Nothing stirs in this gray hour',\n",
    "            'Even my dreams are tired',\n",
    "            'The stars forgot my name'\n",
    "        ],\n",
    "        'anger': [\n",
    "            'Flames climb my ribcage',\n",
    "            'My jaw clenches thunder',\n",
    "            'The world snarls back at me',\n",
    "            'Fists shake the sky',\n",
    "            'Molten thoughts erupt',\n",
    "            'Words crack like knuckles',\n",
    "            'My pulse kicks doors down',\n",
    "            'Breath like smoke in winter air',\n",
    "            'Teeth grind mountains',\n",
    "            'Lightning answers my scream'\n",
    "        ],\n",
    "        'love': [\n",
    "            'Your smile folds galaxies',\n",
    "            'Time melts around your eyes',\n",
    "            'We speak without words',\n",
    "            'Hands find home in each other',\n",
    "            'My name sounds better in your mouth',\n",
    "            'You brush stars across my skin',\n",
    "            'Each breath is an echo of you',\n",
    "            'Our gravity bends space',\n",
    "            'Hearts click like magnets',\n",
    "            'You are my favorite constant'\n",
    "        ],\n",
    "        'surprise': [\n",
    "            'A comet in my coffee cup',\n",
    "            'The moon blinked',\n",
    "            'Raindrops start to sing',\n",
    "            'The air turned to glitter',\n",
    "            'Time hiccupped at noon',\n",
    "            'A rainbow whispered secrets',\n",
    "            'The sky flipped inside out',\n",
    "            'Balloons rose from my cereal',\n",
    "            'The mirror winked at me',\n",
    "            'Dreams answered the phone'\n",
    "        ]\n",
    "    }\n",
    "\n",
    "    labels = {\n",
    "        'joy': '😊',\n",
    "        'sadness': '😢',\n",
    "        'anger': '😠',\n",
    "        'love': '❤️',\n",
    "        'surprise': '😲'\n",
    "    }\n",
    "\n",
    "    data = [(line, labels[emo]) for emo in emotions for line in emotions[emo]]\n",
    "    return shuffle(data, random_state=42)\n",
    "\n"
   ]
  },
  {
   "cell_type": "code",
   "execution_count": 10,
   "id": "73bb19ea",
   "metadata": {},
   "outputs": [],
   "source": [
    "def hole_9(data):\n",
    "    from sklearn.feature_extraction.text import TfidfVectorizer\n",
    "    from sklearn.linear_model import LogisticRegression\n",
    "    from sklearn.pipeline import make_pipeline\n",
    "\n",
    "    X, y = zip(*data)\n",
    "\n",
    "    # FILL IN THIS LINE ↓↓↓\n",
    "    model = make_pipeline(TfidfVectorizer(), LogisticRegression(max_iter=1000))\n",
    "\n",
    "\n",
    "    model.fit(X, y)\n",
    "    return model\n"
   ]
  },
  {
   "cell_type": "code",
   "execution_count": 11,
   "id": "3c0f23c2",
   "metadata": {},
   "outputs": [
    {
     "name": "stdout",
     "output_type": "stream",
     "text": [
      "📝 My voice melted with the sunrise\n",
      "🎯 Predicted: 😊\n",
      "\n",
      "📝 The window won't answer me\n",
      "🎯 Predicted: 😲\n",
      "\n",
      "📝 My chest explodes with silence\n",
      "🎯 Predicted: 😢\n",
      "\n",
      "📝 You rewrote my ending\n",
      "🎯 Predicted: ❤️\n",
      "\n",
      "📝 A cloud just sneezed goldfish\n",
      "🎯 Predicted: 😢\n",
      "\n"
     ]
    }
   ],
   "source": [
    "data = hole_8()\n",
    "model = hole_9(data)\n",
    "\n",
    "test = [\n",
    "    \"My voice melted with the sunrise\",    # joy\n",
    "    \"The window won't answer me\",         # sadness\n",
    "    \"My chest explodes with silence\",     # anger/sadness\n",
    "    \"You rewrote my ending\",              # love\n",
    "    \"A cloud just sneezed goldfish\"       # surprise\n",
    "]\n",
    "\n",
    "for t in test:\n",
    "    print(f\"📝 {t}\\n🎯 Predicted: {model.predict([t])[0]}\\n\")\n",
    "\n"
   ]
  },
  {
   "cell_type": "code",
   "execution_count": 12,
   "id": "b200a4ae",
   "metadata": {},
   "outputs": [],
   "source": [
    "import random\n",
    "\n",
    "def generate_weather_data():\n",
    "    # Each entry: [temp (°C), humidity (%), wind speed (km/h)]\n",
    "    data = [[random.gauss(20, 5), random.gauss(50, 15), random.gauss(15, 5)] for _ in range(30)]\n",
    "\n",
    "    # Inject patterns\n",
    "    for i in [5, 6, 7]:    # Simulated heatwave\n",
    "        data[i][0] += 10\n",
    "    for i in [15, 16, 17]: # Simulated storm\n",
    "        data[i][1] += 30\n",
    "        data[i][2] += 25\n",
    "\n",
    "    return data\n"
   ]
  },
  {
   "cell_type": "code",
   "execution_count": 13,
   "id": "2abffcd6",
   "metadata": {},
   "outputs": [],
   "source": [
    "def hole_8(raw_data):\n",
    "    # FILL IN: Return engineered features like \"heat index\" or \"wind x humidity\"\n",
    "    # Example: return [[temp + 0.1*humidity, wind*humidity] for temp, humidity, wind in raw_data]\n",
    "    return [[t + 0.1*h, w*h] for t, h, w in raw_data]"
   ]
  },
  {
   "cell_type": "code",
   "execution_count": 14,
   "id": "3b015c8d",
   "metadata": {},
   "outputs": [],
   "source": [
    "def hole_9(features):\n",
    "    def classify(x):\n",
    "        # FILL IN: Return \"Heatwave\", \"Storm\", or \"Normal\" based on thresholds\n",
    "        return \"Heatwave\" if x[0] > 30 else \"Storm\" if x[1] > 1200 else \"Normal\"\n",
    "    return [classify(x) for x in features]"
   ]
  },
  {
   "cell_type": "code",
   "execution_count": 15,
   "id": "f35e2c7d",
   "metadata": {},
   "outputs": [
    {
     "name": "stdout",
     "output_type": "stream",
     "text": [
      "Day 1: 🌡️ 28.6 | 💨x💧 562 ➜ Normal\n",
      "Day 2: 🌡️ 21.6 | 💨x💧 504 ➜ Normal\n",
      "Day 3: 🌡️ 25.7 | 💨x💧 919 ➜ Normal\n",
      "Day 4: 🌡️ 31.3 | 💨x💧 358 ➜ Heatwave\n",
      "Day 5: 🌡️ 36.1 | 💨x💧 760 ➜ Heatwave\n",
      "Day 6: 🌡️ 43.2 | 💨x💧 138 ➜ Heatwave\n",
      "Day 7: 🌡️ 31.5 | 💨x💧 488 ➜ Heatwave\n",
      "Day 8: 🌡️ 45.0 | 💨x💧 1256 ➜ Heatwave\n",
      "Day 9: 🌡️ 18.4 | 💨x💧 1218 ➜ Storm\n",
      "Day 10: 🌡️ 24.1 | 💨x💧 977 ➜ Normal\n",
      "Day 11: 🌡️ 28.9 | 💨x💧 1002 ➜ Normal\n",
      "Day 12: 🌡️ 12.9 | 💨x💧 275 ➜ Normal\n",
      "Day 13: 🌡️ 28.1 | 💨x💧 1175 ➜ Normal\n",
      "Day 14: 🌡️ 13.7 | 💨x💧 577 ➜ Normal\n",
      "Day 15: 🌡️ 22.9 | 💨x💧 247 ➜ Normal\n",
      "Day 16: 🌡️ 29.1 | 💨x💧 4578 ➜ Storm\n",
      "Day 17: 🌡️ 33.4 | 💨x💧 2766 ➜ Heatwave\n",
      "Day 18: 🌡️ 31.9 | 💨x💧 2868 ➜ Heatwave\n",
      "Day 19: 🌡️ 25.4 | 💨x💧 893 ➜ Normal\n",
      "Day 20: 🌡️ 15.0 | 💨x💧 9 ➜ Normal\n",
      "Day 21: 🌡️ 29.4 | 💨x💧 1003 ➜ Normal\n",
      "Day 22: 🌡️ 26.7 | 💨x💧 541 ➜ Normal\n",
      "Day 23: 🌡️ 20.9 | 💨x💧 955 ➜ Normal\n",
      "Day 24: 🌡️ 30.5 | 💨x💧 951 ➜ Heatwave\n",
      "Day 25: 🌡️ 38.1 | 💨x💧 1292 ➜ Heatwave\n",
      "Day 26: 🌡️ 25.8 | 💨x💧 735 ➜ Normal\n",
      "Day 27: 🌡️ 25.8 | 💨x💧 432 ➜ Normal\n",
      "Day 28: 🌡️ 33.9 | 💨x💧 911 ➜ Heatwave\n",
      "Day 29: 🌡️ 20.4 | 💨x💧 548 ➜ Normal\n",
      "Day 30: 🌡️ 15.0 | 💨x💧 402 ➜ Normal\n"
     ]
    }
   ],
   "source": [
    "raw = generate_weather_data()\n",
    "features = hole_8(raw)\n",
    "labels = hole_9(features)\n",
    "\n",
    "for i, (f, l) in enumerate(zip(features, labels)):\n",
    "    print(f\"Day {i+1}: 🌡️ {round(f[0],1)} | 💨x💧 {round(f[1])} ➜ {l}\")\n"
   ]
  },
  {
   "cell_type": "code",
   "execution_count": null,
   "id": "f09fe7bf",
   "metadata": {},
   "outputs": [],
   "source": [
    "import requests\n",
    "\n",
    "def submit(hole_num, code_str, participant_name):\n",
    "    res = requests.post(\"https://api.sheety.co/abc123/myLeaderboard/scores\", json={\n",
    "        \"participant\": participant_name,\n",
    "        \"hole\": hole_num,\n",
    "        \"code\": code_str,\n",
    "        \"length\": len(code_str)\n",
    "    })\n",
    "    print(res.text)\n"
   ]
  }
 ],
 "metadata": {
  "kernelspec": {
   "display_name": "Python 3",
   "language": "python",
   "name": "python3"
  },
  "language_info": {
   "codemirror_mode": {
    "name": "ipython",
    "version": 3
   },
   "file_extension": ".py",
   "mimetype": "text/x-python",
   "name": "python",
   "nbconvert_exporter": "python",
   "pygments_lexer": "ipython3",
   "version": "3.13.2"
  }
 },
 "nbformat": 4,
 "nbformat_minor": 5
}
